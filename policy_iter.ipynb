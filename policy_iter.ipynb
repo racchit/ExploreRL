{
  "nbformat": 4,
  "nbformat_minor": 0,
  "metadata": {
    "colab": {
      "name": "policy_iter.ipynb",
      "provenance": []
    },
    "kernelspec": {
      "name": "python3",
      "display_name": "Python 3"
    }
  },
  "cells": [
    {
      "cell_type": "code",
      "metadata": {
        "id": "530bN5kLJ5FC",
        "colab": {
          "base_uri": "https://localhost:8080/",
          "height": 199
        },
        "outputId": "7e86b3c0-9144-402e-ce00-cf12e87bccfb"
      },
      "source": [
        "!pip install gym-gridworlds"
      ],
      "execution_count": null,
      "outputs": [
        {
          "output_type": "stream",
          "text": [
            "Collecting gym-gridworlds\n",
            "  Downloading https://files.pythonhosted.org/packages/00/6a/62b65640733b10bcffa683c2fe28d8adc41f8a6f82c4954aad3660a8da6e/gym_gridworlds-0.0.2-py3-none-any.whl\n",
            "Requirement already satisfied: numpy in /usr/local/lib/python3.6/dist-packages (from gym-gridworlds) (1.18.4)\n",
            "Requirement already satisfied: gym in /usr/local/lib/python3.6/dist-packages (from gym-gridworlds) (0.17.2)\n",
            "Requirement already satisfied: scipy in /usr/local/lib/python3.6/dist-packages (from gym->gym-gridworlds) (1.4.1)\n",
            "Requirement already satisfied: pyglet<=1.5.0,>=1.4.0 in /usr/local/lib/python3.6/dist-packages (from gym->gym-gridworlds) (1.5.0)\n",
            "Requirement already satisfied: cloudpickle<1.4.0,>=1.2.0 in /usr/local/lib/python3.6/dist-packages (from gym->gym-gridworlds) (1.3.0)\n",
            "Requirement already satisfied: future in /usr/local/lib/python3.6/dist-packages (from pyglet<=1.5.0,>=1.4.0->gym->gym-gridworlds) (0.16.0)\n",
            "Installing collected packages: gym-gridworlds\n",
            "Successfully installed gym-gridworlds-0.0.2\n"
          ],
          "name": "stdout"
        }
      ]
    },
    {
      "cell_type": "code",
      "metadata": {
        "id": "ib6-I1FP-kpm"
      },
      "source": [
        "import gym"
      ],
      "execution_count": null,
      "outputs": []
    },
    {
      "cell_type": "code",
      "metadata": {
        "id": "l9gdFI0gMGqY"
      },
      "source": [
        "import io\n",
        "import numpy as np\n",
        "import sys\n",
        "from gym.envs.toy_text import discrete\n",
        "\n",
        "UP = 0\n",
        "RIGHT = 1\n",
        "DOWN = 2\n",
        "LEFT = 3\n",
        "\n",
        "class GridworldEnv(discrete.DiscreteEnv):\n",
        "    \"\"\"\n",
        "    Grid World environment from Sutton's Reinforcement Learning book chapter 4.\n",
        "    You are an agent on an MxN grid and your goal is to reach the terminal\n",
        "    state at the top left or the bottom right corner.\n",
        "    For example, a 4x4 grid looks as follows:\n",
        "    T  o  o  o\n",
        "    o  x  o  o\n",
        "    o  o  o  o\n",
        "    o  o  o  T\n",
        "    x is your position and T are the two terminal states.\n",
        "    You can take actions in each direction (UP=0, RIGHT=1, DOWN=2, LEFT=3).\n",
        "    Actions going off the edge leave you in your current state.\n",
        "    You receive a reward of -1 at each step until you reach a terminal state.\n",
        "    \"\"\"\n",
        "\n",
        "    metadata = {'render.modes': ['human', 'ansi']}\n",
        "\n",
        "    def __init__(self, shape=[4,4]):\n",
        "        if not isinstance(shape, (list, tuple)) or not len(shape) == 2:\n",
        "            raise ValueError('shape argument must be a list/tuple of length 2')\n",
        "\n",
        "        self.shape = shape\n",
        "\n",
        "        nS = np.prod(shape)\n",
        "        nA = 4\n",
        "\n",
        "        MAX_Y = shape[0]\n",
        "        MAX_X = shape[1]\n",
        "\n",
        "        P = {}\n",
        "        grid = np.arange(nS).reshape(shape)\n",
        "        it = np.nditer(grid, flags=['multi_index'])\n",
        "\n",
        "        while not it.finished:\n",
        "            s = it.iterindex\n",
        "            y, x = it.multi_index\n",
        "\n",
        "            # P[s][a] = (prob, next_state, reward, is_done)\n",
        "            P[s] = {a : [] for a in range(nA)}\n",
        "\n",
        "            is_done = lambda s: s == 0 or s == (nS - 1)\n",
        "            reward = 0.0 if is_done(s) else -1.0\n",
        "\n",
        "            # We're stuck in a terminal state\n",
        "            if is_done(s):\n",
        "                P[s][UP] = [(1.0, s, reward, True)]\n",
        "                P[s][RIGHT] = [(1.0, s, reward, True)]\n",
        "                P[s][DOWN] = [(1.0, s, reward, True)]\n",
        "                P[s][LEFT] = [(1.0, s, reward, True)]\n",
        "            # Not a terminal state\n",
        "            else:\n",
        "                ns_up = s if y == 0 else s - MAX_X\n",
        "                ns_right = s if x == (MAX_X - 1) else s + 1\n",
        "                ns_down = s if y == (MAX_Y - 1) else s + MAX_X\n",
        "                ns_left = s if x == 0 else s - 1\n",
        "                P[s][UP] = [(1.0, ns_up, reward, is_done(ns_up))]\n",
        "                P[s][RIGHT] = [(1.0, ns_right, reward, is_done(ns_right))]\n",
        "                P[s][DOWN] = [(1.0, ns_down, reward, is_done(ns_down))]\n",
        "                P[s][LEFT] = [(1.0, ns_left, reward, is_done(ns_left))]\n",
        "\n",
        "            it.iternext()\n",
        "\n",
        "        # Initial state distribution is uniform\n",
        "        isd = np.ones(nS) / nS\n",
        "\n",
        "        # We expose the model of the environment for educational purposes\n",
        "        # This should not be used in any model-free learning algorithm\n",
        "        self.P = P\n",
        "\n",
        "        super(GridworldEnv, self).__init__(nS, nA, P, isd)\n",
        "\n",
        "    def _render(self, mode='human', close=False):\n",
        "        \"\"\" Renders the current gridworld layout\n",
        "         For example, a 4x4 grid with the mode=\"human\" looks like:\n",
        "            T  o  o  o\n",
        "            o  x  o  o\n",
        "            o  o  o  o\n",
        "            o  o  o  T\n",
        "        where x is your position and T are the two terminal states.\n",
        "        \"\"\"\n",
        "        if close:\n",
        "            return\n",
        "\n",
        "        outfile = io.StringIO() if mode == 'ansi' else sys.stdout\n",
        "\n",
        "        grid = np.arange(self.nS).reshape(self.shape)\n",
        "        it = np.nditer(grid, flags=['multi_index'])\n",
        "        while not it.finished:\n",
        "            s = it.iterindex\n",
        "            y, x = it.multi_index\n",
        "\n",
        "            if self.s == s:\n",
        "                output = \" x \"\n",
        "            elif s == 0 or s == self.nS - 1:\n",
        "                output = \" T \"\n",
        "            else:\n",
        "                output = \" o \"\n",
        "\n",
        "            if x == 0:\n",
        "                output = output.lstrip()\n",
        "            if x == self.shape[1] - 1:\n",
        "                output = output.rstrip()\n",
        "\n",
        "            outfile.write(output)\n",
        "\n",
        "            if x == self.shape[1] - 1:\n",
        "                outfile.write(\"\\n\")\n",
        "\n",
        "            it.iternext()"
      ],
      "execution_count": null,
      "outputs": []
    },
    {
      "cell_type": "code",
      "metadata": {
        "id": "8lox0I9j4Y60"
      },
      "source": [
        ""
      ],
      "execution_count": null,
      "outputs": []
    }
  ]
}