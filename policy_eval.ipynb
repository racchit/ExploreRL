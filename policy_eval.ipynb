{
  "nbformat": 4,
  "nbformat_minor": 0,
  "metadata": {
    "colab": {
      "name": "policy_eval.ipynb",
      "provenance": [],
      "collapsed_sections": []
    },
    "kernelspec": {
      "name": "python3",
      "display_name": "Python 3"
    }
  },
  "cells": [
    {
      "cell_type": "code",
      "metadata": {
        "id": "bpMe9hkEjgIl"
      },
      "source": [
        "import numpy as np\n",
        "import matplotlib.pyplot as plt\n",
        "%matplotlib inline"
      ],
      "execution_count": null,
      "outputs": []
    },
    {
      "cell_type": "code",
      "metadata": {
        "id": "tr7enC0ul5QX",
        "colab": {
          "base_uri": "https://localhost:8080/",
          "height": 90
        },
        "outputId": "1b9ba81c-40c5-423b-fe33-4d617d04d399"
      },
      "source": [
        "grid_world = np.zeros((4,4))\n",
        "grid_world"
      ],
      "execution_count": null,
      "outputs": [
        {
          "output_type": "execute_result",
          "data": {
            "text/plain": [
              "array([[0., 0., 0., 0.],\n",
              "       [0., 0., 0., 0.],\n",
              "       [0., 0., 0., 0.],\n",
              "       [0., 0., 0., 0.]])"
            ]
          },
          "metadata": {
            "tags": []
          },
          "execution_count": 2
        }
      ]
    },
    {
      "cell_type": "code",
      "metadata": {
        "id": "NekoDni5eVwm"
      },
      "source": [
        "TERMINAL_STATES = [0,15]\n",
        "NON_TERMINAL_STATES = [1,2,3,4,5,6,7,8,9,10,11,12,13,14]"
      ],
      "execution_count": null,
      "outputs": []
    },
    {
      "cell_type": "code",
      "metadata": {
        "id": "C0L9n9YMen49"
      },
      "source": [
        "def policy():\n",
        "   policy = [0.25,0.25,0.25,0.25]\n",
        "   return policy\n"
      ],
      "execution_count": null,
      "outputs": []
    },
    {
      "cell_type": "code",
      "metadata": {
        "id": "0n5MC0vLgYYB"
      },
      "source": [
        "def r(s,a,s_):\n",
        "  return -1"
      ],
      "execution_count": null,
      "outputs": []
    },
    {
      "cell_type": "code",
      "metadata": {
        "id": "2BQpy_b6ily9"
      },
      "source": [
        "actions = [0,1,2,3]\n",
        "policy = policy"
      ],
      "execution_count": null,
      "outputs": []
    },
    {
      "cell_type": "code",
      "metadata": {
        "id": "8AXPqzzKflh_"
      },
      "source": [
        "def p(s,s_,a):\n",
        "  if (s in range(16)):\n",
        "    if a == 0:\n",
        "      if(s-s_ == 4):\n",
        "        return 1\n",
        "      elif((s in [1,2,3])and(s_==s)):\n",
        "        return 1\n",
        "      else:\n",
        "        return 0\n",
        "    elif a == 1:\n",
        "      if(s-s_ == -4):\n",
        "        return 1\n",
        "      elif((s in [12,13,14])and(s_==s)):\n",
        "        return 1\n",
        "      else:\n",
        "        return 0\n",
        "    elif a == 2:\n",
        "      if((s-s_ == -1)and(s_%4 != 0)):\n",
        "        return 1\n",
        "      elif((s in [3,7,11])and(s_==s)):\n",
        "        return 1\n",
        "      else:\n",
        "        return 0\n",
        "    elif a == 3:\n",
        "      if((s-s_ == 1)and(s_%4 != 3)):\n",
        "        return 1\n",
        "      elif((s in [4,8,12])and(s_==s)):\n",
        "        return 1\n",
        "      else:\n",
        "        return 0\n"
      ],
      "execution_count": null,
      "outputs": []
    },
    {
      "cell_type": "code",
      "metadata": {
        "id": "I8UBgMfzk5_u",
        "colab": {
          "base_uri": "https://localhost:8080/",
          "height": 35
        },
        "outputId": "37046438-5697-47c5-de24-6860b808276f"
      },
      "source": [
        "print(NON_TERMINAL_STATES+TERMINAL_STATES)"
      ],
      "execution_count": null,
      "outputs": [
        {
          "output_type": "stream",
          "text": [
            "[1, 2, 3, 4, 5, 6, 7, 8, 9, 10, 11, 12, 13, 14, 0, 15]\n"
          ],
          "name": "stdout"
        }
      ]
    },
    {
      "cell_type": "code",
      "metadata": {
        "id": "RQHx4tNhTkr0"
      },
      "source": [
        "poss_states = {}\n",
        "for s in NON_TERMINAL_STATES:\n",
        "  list = []\n",
        "  for a in actions:\n",
        "    for s_ in (NON_TERMINAL_STATES + TERMINAL_STATES):\n",
        "      if(p(s,s_,a)):\n",
        "        list.append(s_)\n",
        "  poss_states.update({s:list})"
      ],
      "execution_count": null,
      "outputs": []
    },
    {
      "cell_type": "code",
      "metadata": {
        "id": "nbrXuRxXVtW-",
        "colab": {
          "base_uri": "https://localhost:8080/",
          "height": 271
        },
        "outputId": "227d39e3-5b8c-4223-a5ac-7a6d5d6ebd5a"
      },
      "source": [
        "poss_states"
      ],
      "execution_count": null,
      "outputs": [
        {
          "output_type": "execute_result",
          "data": {
            "text/plain": [
              "{1: [1, 5, 2, 0],\n",
              " 2: [2, 6, 3, 1],\n",
              " 3: [3, 7, 3, 2],\n",
              " 4: [0, 8, 5, 4],\n",
              " 5: [1, 9, 6, 4],\n",
              " 6: [2, 10, 7, 5],\n",
              " 7: [3, 11, 7, 6],\n",
              " 8: [4, 12, 9, 8],\n",
              " 9: [5, 13, 10, 8],\n",
              " 10: [6, 14, 11, 9],\n",
              " 11: [7, 15, 11, 10],\n",
              " 12: [8, 12, 13, 12],\n",
              " 13: [9, 13, 14, 12],\n",
              " 14: [10, 14, 15, 13]}"
            ]
          },
          "metadata": {
            "tags": []
          },
          "execution_count": 33
        }
      ]
    },
    {
      "cell_type": "code",
      "metadata": {
        "id": "GQVZo1UPZ7Rv"
      },
      "source": [
        ""
      ],
      "execution_count": null,
      "outputs": []
    },
    {
      "cell_type": "code",
      "metadata": {
        "id": "49vdtIGUoph8"
      },
      "source": [
        "V_old = np.zeros(16)\n",
        "for i in range(1000):\n",
        "  V_new = np.zeros(16)\n",
        "  for s in range(1,15):\n",
        "    sum1 = 0.0\n",
        "    for s_ in poss_states[s]:\n",
        "      sum1 += -1 + V_old[s_]\n",
        "    V_new[s] = 0.25*sum1\n",
        "  V_old = V_new"
      ],
      "execution_count": null,
      "outputs": []
    },
    {
      "cell_type": "code",
      "metadata": {
        "id": "K03L8YbKdESk",
        "colab": {
          "base_uri": "https://localhost:8080/",
          "height": 53
        },
        "outputId": "df83e6ac-af38-42ac-80b2-ed021868c01f"
      },
      "source": [
        "V_old"
      ],
      "execution_count": null,
      "outputs": [
        {
          "output_type": "execute_result",
          "data": {
            "text/plain": [
              "array([  0., -14., -20., -22., -14., -18., -20., -20., -20., -20., -18.,\n",
              "       -14., -22., -20., -14.,   0.])"
            ]
          },
          "metadata": {
            "tags": []
          },
          "execution_count": 55
        }
      ]
    },
    {
      "cell_type": "code",
      "metadata": {
        "id": "J7IoqrQGjhoy"
      },
      "source": [
        ""
      ],
      "execution_count": null,
      "outputs": []
    }
  ]
}